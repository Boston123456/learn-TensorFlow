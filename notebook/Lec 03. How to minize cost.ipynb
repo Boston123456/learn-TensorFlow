{
 "cells": [
  {
   "cell_type": "markdown",
   "metadata": {},
   "source": [
    "### Simplified hypothesis\n",
    "H(x) = Wx (b 제거)\n",
    "\n",
    "### What cost(W) looks like?\n",
    "|x|y|\n",
    "|:--:|:--:|\n",
    "|1|1|\n",
    "|2|2|\n",
    "|3|3|\n",
    "\n",
    "- W = 1, cost(W)=? `0`\n",
    "    - 1/3 * ((1 * 1 - 1)^2 + (1 * 2 - 2)^2 + (1 * 3 - 3)^2)\n",
    "- W = 0, cost(W)=? `4.67`\n",
    "    - 1/3 * ((0 * 1 - 1)^2 + (0 * 2 - 2)^2 + (0 * 3 - 3)^2)\n",
    "- W = 2, cost(W)=? `4.67`\n",
    "    - 1/3 * ((2 * 1 - 1)^2 + (2 * 2 - 2)^2 + (2 * 3 - 3)^2)"
   ]
  },
  {
   "cell_type": "code",
   "execution_count": 2,
   "metadata": {
    "collapsed": false
   },
   "outputs": [
    {
     "data": {
      "image/png": "[encoded data removed]",
      "text/plain": [
       "<matplotlib.figure.Figure at 0x10663de48>"
      ]
     },
     "metadata": {},
     "output_type": "display_data"
    }
   ],
   "source": [
    "import numpy as np\n",
    "import matplotlib.pyplot as plt\n",
    "plt.plot([0, 1, 2], [4.67, 0, 4.67], 'ro')\n",
    "plt.axis([0, 5, 0, 5])\n",
    "plt.show()"
   ]
  },
  {
   "cell_type": "markdown",
   "metadata": {},
   "source": [
    "--> cost function을 그리면 2차함수의 모양을 가지게 됨\n",
    "--> cost를 최소화하는 것을 목표로 자동으로 찾아야 함\n",
    "\n",
    "## Gradient descent algorithm\n",
    "- Minimize cost function\n",
    "- Gradient descent is used many minimization problems\n",
    "- For a given cost function, cost(W,b), it will find W,b to minimize cost\n",
    "- It can be applied to more general function:\n",
    "cost(w1, w2, ...)\n",
    "\n",
    "### How it works?\n",
    "#### How would you find the lowest point?\n",
    "\n",
    "기울기가 0이 되는 곳을 찾는 과정\n",
    "\n",
    "- Start with initial guesses\n",
    "    - Start at 0,0 (or any other value)\n",
    "    - Keeping changing W and b a little bit to try and reduce cost(W,b)\n",
    "- Each time you change the parameters, you select the gradient which reduces cost(W,b) the most possible\n",
    "- Repeat\n",
    "- Do so until you converge to a local minimum\n",
    "- Has an interesting property\n",
    "    - Where you start can determine which minimum you end up\n",
    "\n",
    "#### Formal definition\n",
    "1/m --> 1/2m\n",
    "W := W - alpha(running rate) * cost'(W)\n",
    "  := W - alpha * 1/2m * sigma(i=1, i<=m, i++)[2(W * x(i) - y(i)) * x(i)]\n",
    "  := W - alpha * 1/m * sigma(i=1, i<=m, i++)[(W * x(i) - y(i)) * x(i)]\n",
    "\n",
    "### Gradient descent algorithm\n",
    "W := W - alpha * 1/m * sigma(i=1, i<=m, i++)[(W * x(i) - y(i)) * x(i)]\n",
    "\n",
    "### Convex function\n",
    "www.holehouse.org/mlclass/\n",
    "\n",
    "cost function을 설계할 때에는 Convex function인지 확인해야 함"
   ]
  },
  {
   "cell_type": "code",
   "execution_count": null,
   "metadata": {
    "collapsed": true
   },
   "outputs": [],
   "source": []
  }
 ],
 "metadata": {
  "kernelspec": {
   "display_name": "Python 3",
   "language": "python",
   "name": "python3"
  },
  "language_info": {
   "codemirror_mode": {
    "name": "ipython",
    "version": 3
   },
   "file_extension": ".py",
   "mimetype": "text/x-python",
   "name": "python",
   "nbconvert_exporter": "python",
   "pygments_lexer": "ipython3",
   "version": "3.5.1"
  }
 },
 "nbformat": 4,
 "nbformat_minor": 2
}
