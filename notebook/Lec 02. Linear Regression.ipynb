{
 "cells": [
  {
   "cell_type": "markdown",
   "metadata": {},
   "source": [
    "### Predicting exam score:\n",
    "#### regression\n",
    "\n",
    "|x(hours)|y(score)|\n",
    "|:--:|:--:|\n",
    "|10|90|\n",
    "|9|80|\n",
    "|3|50|\n",
    "|2|30|\n",
    "\n",
    "Training data를 활용하여 학습시켜 모델을 생성하고, regression을 사용하여 x에 대한 y를 예측\n",
    "\n",
    "#### Regression(data)\n",
    "\n",
    "|x|y|\n",
    "|:--:|:--:|\n",
    "|1|1|\n",
    "|2|2|\n",
    "|3|3|\n",
    "\n",
    "x: 예측하기 위한 기본자료(feature)\n",
    "y: 예측할 대상\n",
    "\n",
    "#### Regression(presentation)"
   ]
  },
  {
   "cell_type": "code",
   "execution_count": 3,
   "metadata": {
    "collapsed": false,
    "scrolled": true
   },
   "outputs": [
    {
     "data": {
      "image/png": "[encoded data removed]",
      "text/plain": [
       "<matplotlib.figure.Figure at 0x10ad43668>"
      ]
     },
     "metadata": {},
     "output_type": "display_data"
    }
   ],
   "source": [
    "import numpy as np\n",
    "import matplotlib.pyplot as plt\n",
    "plt.plot([1,2,3], [1,2,3], 'ro')\n",
    "plt.axis([0,3,0,3])\n",
    "plt.show()"
   ]
  },
  {
   "cell_type": "markdown",
   "metadata": {},
   "source": [
    "#### (Linear) Hypothesis\n",
    "- 세상의 많은 문제들을 Linear 모델을 활용하여 풀 수 있음\n",
    "\n",
    "`H(x) = Wx + b`\n",
    "\n",
    "- W와 b에 따라 선의 모양(모델)이 결정됨\n",
    "\n",
    "#### Which hypothesis is better?"
   ]
  },
  {
   "cell_type": "code",
   "execution_count": 6,
   "metadata": {
    "collapsed": false,
    "scrolled": true
   },
   "outputs": [
    {
     "data": {
      "image/png": "[encoded data removed]",
      "text/plain": [
       "<matplotlib.figure.Figure at 0x10ccc2438>"
      ]
     },
     "metadata": {},
     "output_type": "display_data"
    }
   ],
   "source": [
    "line1 = plt.plot([0,1,2,3])\n",
    "line2 = plt.plot([2., 2.5, 3.])\n",
    "plt.plot([1,2,3], [1,2,3], 'ro')\n",
    "plt.axis([0,3,0,3])\n",
    "plt.show()"
   ]
  },
  {
   "cell_type": "markdown",
   "metadata": {},
   "source": [
    "#### cost function(Loss function)\n",
    "- How fit the line to our (training) data\n",
    "`(H(x) - y)^2` ==> 차이를 양수로 표현하고, 차이가 클 때 그 차이에 대한 페널티를 주기 위함\n",
    "\n",
    "cost = 1/m sigma(i=1,i>=m, i++)(H(x^(i) - y^(i)))^2\n",
    "m = 학습데이터 갯수\n",
    "\n",
    "cost(W,b) = sigma(i=,i>=m, i++)(H(x^(i) - y^(i)))^2\n",
    "==> 가장 작은 값을 가지도록 설계\n",
    "\n",
    "## Goal: Minimize cost\n",
    "minimize cost(W,b)"
   ]
  },
  {
   "cell_type": "code",
   "execution_count": null,
   "metadata": {
    "collapsed": true
   },
   "outputs": [],
   "source": []
  }
 ],
 "metadata": {
  "kernelspec": {
   "display_name": "Python 3",
   "language": "python",
   "name": "python3"
  },
  "language_info": {
   "codemirror_mode": {
    "name": "ipython",
    "version": 3
   },
   "file_extension": ".py",
   "mimetype": "text/x-python",
   "name": "python",
   "nbconvert_exporter": "python",
   "pygments_lexer": "ipython3",
   "version": "3.5.1"
  }
 },
 "nbformat": 4,
 "nbformat_minor": 2
}
